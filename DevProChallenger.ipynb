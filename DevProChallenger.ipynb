{
 "cells": [
  {
   "cell_type": "markdown",
   "metadata": {},
   "source": [
    "# Starting in Python "
   ]
  },
  {
   "cell_type": "code",
   "execution_count": null,
   "metadata": {},
   "outputs": [],
   "source": [
    "nome = input('Escreva seu nome : ')\n",
    "idade = 40\n",
    "tipo_nome = type(nome)\n",
    "tipo_idade = type(idade)\n",
    "altura = 1.85\n",
    "tipo_altura = type(altura)\n",
    "\n",
    "print(nome)\n",
    "print(idade)\n",
    "print(altura)\n",
    "print(tipo_nome)\n",
    "print(tipo_idade)\n",
    "print(tipo_altura)"
   ]
  },
  {
   "cell_type": "code",
   "execution_count": null,
   "metadata": {},
   "outputs": [],
   "source": [
    "print('Meu nome é :', nome,'tenho' ,idade,'anos','e tenho' ,altura, 'de altura')"
   ]
  },
  {
   "cell_type": "code",
   "execution_count": null,
   "metadata": {},
   "outputs": [],
   "source": [
    "print('Meu nome é : '+ nome +' tenho ' + str(idade) + ' anos '+'e tenho ' + str(altura) + ' de altura')"
   ]
  },
  {
   "cell_type": "markdown",
   "metadata": {},
   "source": [
    "# wiki Python - https://wiki.python.org.br/"
   ]
  },
  {
   "cell_type": "markdown",
   "metadata": {},
   "source": []
  },
  {
   "cell_type": "code",
   "execution_count": null,
   "metadata": {},
   "outputs": [],
   "source": [
    "# Faça um Programa que peça dois números e imprima a soma.\n",
    "num1 = int(input('Entre com um numero: '))\n",
    "num2 = int(input('Entre com o 2 numero: '))\n",
    "\n",
    "total = num1+num2\n",
    "print('O resultado da soma é :' ,int(total))"
   ]
  },
  {
   "cell_type": "code",
   "execution_count": null,
   "metadata": {},
   "outputs": [],
   "source": [
    "#Faça um Programa que peça as 4 notas bimestrais e mostre a média\n",
    "\n",
    "materia = input('Qual a materia :')\n",
    "bim1 = int(input('Entre com a nota do 1º Bimestre :'))\n",
    "bim2 = int(input('Entre com a nota do 2º Bimestre :'))\n",
    "bim3 = int(input('Entre com a nota do 3º Bimestre :'))\n",
    "bim4 = int(input('Entre com a nota do 4º Bimestre :'))\n",
    "\n",
    "media = (bim1+bim2+bim3+bim4) / 4\n",
    "\n",
    "print('A media do bimestre em',materia, 'foi de :',media)"
   ]
  },
  {
   "cell_type": "code",
   "execution_count": null,
   "metadata": {},
   "outputs": [],
   "source": [
    "#Faça um Programa que converta metros para centímetros.\n",
    "\n",
    "medida = float(input(\"Entre com a medida em metros :\"))\n",
    "cent = medida*100\n",
    "print('O valor em centimetros é :', cent)"
   ]
  },
  {
   "cell_type": "code",
   "execution_count": null,
   "metadata": {},
   "outputs": [],
   "source": [
    "# Faça um Programa que peça o raio de um círculo, calcule e mostre sua área.\n",
    "\n",
    "raio = float(input(\"Entre com o raio do circulo\"))\n",
    "area = 2*raio*3,14\n",
    "print('A área do circulo é : '+ str(area))\n",
    "\n",
    "#print('Cada um vai ficar com R$ %.2f' % (total/num) )"
   ]
  },
  {
   "cell_type": "code",
   "execution_count": null,
   "metadata": {},
   "outputs": [],
   "source": [
    "#Faça um Programa que calcule a área de um quadrado, em seguida mostre o dobro desta área para o usuário\n",
    "\n",
    "lado = float(input(\"Entre com o valor do lado do quadrado:\"))\n",
    "area1 = lado*lado\n",
    "area2 = area1*area1\n",
    "\n",
    "print('Area do quadrado igual :'+str(area1) + '. O dobro da área é :'+str(area2))\n"
   ]
  },
  {
   "cell_type": "code",
   "execution_count": null,
   "metadata": {},
   "outputs": [],
   "source": [
    "#Faça um Programa que pergunte quanto você ganha por hora e o número de horas trabalhadas no mês. \n",
    "#Calcule e mostre o total do seu salário no referido mês.\n",
    "\n",
    "sal_hora=float(input('Qual o seu sálario hora? :'))\n",
    "horas_trab = float(input('Qual o total de horas trabalhadas :'))\n",
    "t_salario = sal_hora*horas_trab\n",
    "\n",
    "print('Salario a receber:' +str(t_salario))"
   ]
  },
  {
   "cell_type": "code",
   "execution_count": null,
   "metadata": {},
   "outputs": [],
   "source": [
    "#Faça um Programa que peça a temperatura em graus Fahrenheit, transforme e mostre a temperatura em graus Celsius.\n",
    "# C = 5 * ((F-32) / 9).\n",
    "\n",
    "fah= float(input('Qual a temperatura em Fahrenheit :'))\n",
    "C = 5 * ((fah-32) / 9)\n",
    "print('A temperatura em Celsius é : %.2f '% C)\n"
   ]
  },
  {
   "cell_type": "code",
   "execution_count": null,
   "metadata": {},
   "outputs": [],
   "source": [
    "#Faça um Programa que peça a temperatura em graus Celsius, transforme e mostre em graus Fahrenheit.\n",
    "\n",
    "c = float(input('Entre com a temperatura em Celsius :'))\n",
    "fha= c * 1.8 + 32\n",
    "print('A temperatura em em Fahrenheit é : %.2f ' %fha)\n",
    "\n"
   ]
  },
  {
   "cell_type": "code",
   "execution_count": null,
   "metadata": {},
   "outputs": [],
   "source": [
    "#Faça um Programa que peça 2 números inteiros e um número real. Calcule e mostre:\n",
    "#o produto do dobro do primeiro com metade do segundo .\n",
    "#a soma do triplo do primeiro com o terceiro.\n",
    "#o terceiro elevado ao cubo.\n",
    "\n",
    "num1 = int(input('Digite um numero inteiro: '))\n",
    "num2 = int(input('Digite o 2 numero inteiro: '))\n",
    "num3 = float(input('Digite um numero real: '))\n",
    "\n",
    "result1 = pow(num1,2)*(num2/2)\n",
    "result2 = 3*num1+num3\n",
    "result3 = pow(num3,3)\n",
    " \n",
    "print('o produto do dobro do primeiro com metade do segundo :  %.3f ' %result1)\n",
    "print('a soma do triplo do primeiro com o terceiro :  %.3f ' %result2)\n",
    "print('o terceiro elevado ao cubo :  %.3f ' %result3)"
   ]
  },
  {
   "cell_type": "code",
   "execution_count": null,
   "metadata": {},
   "outputs": [],
   "source": [
    "#João Papo-de-Pescador, homem de bem, comprou um microcomputador para controlar o rendimento diário de seu trabalho.\n",
    "#Toda vez que ele traz um peso de peixes maior que o estabelecido pelo regulamento de pesca do estado de São Paulo (50 quilos)\n",
    "#deve pagar uma multa de R$ 4,00 por quilo excedente. João precisa que você faça um programa que leia a variável peso \n",
    "#(peso de peixes) e calcule o excesso. Gravar na variável excesso a quantidade de quilos além do limite e na variável multa \n",
    "#o valor da multa que João deverá pagar. Imprima os dados do programa com as mensagens adequadas.\n",
    "\n",
    "print('   ---------------------------------- CALCULO MULTA EXCESSO DE PEIXES - SP ------------------------------------------------')\n",
    "print('')\n",
    "print('')\n",
    "kg_pescado = float(input('Entre com a quantidade em KG de peixes: '))\n",
    "kg_limite = 50\n",
    "multa_ex = 4\n",
    "\n",
    "if kg_pescado > kg_limite :\n",
    "    kg_excess = kg_pescado - kg_limite\n",
    "    multa_pg = kg_excess*4\n",
    "    print(\"Total pescado : %.2f\" %kg_pescado)\n",
    "    print(\"O total pescado em excesso Kg foi de : %.2f\" %kg_excess, \".Com uma multa pelo excesso de : R$ %.2f\" %multa_pg)\n",
    "else :\n",
    "    print(\"Não houve excesso de peso, total em kg : %.2f \" %kg_pescado)\n",
    "\n"
   ]
  },
  {
   "cell_type": "code",
   "execution_count": null,
   "metadata": {},
   "outputs": [],
   "source": [
    "#Faça um Programa que pergunte quanto você ganha por hora e o número de horas trabalhadas no mês. Calcule e mostre o total do \n",
    "#seu salário no referido mês, sabendo-se que são descontados 11% para o Imposto de Renda, 8% para o INSS e 5% para o sindicato, \n",
    "#faça um programa que nos dê:\n",
    "#salário bruto.\n",
    "#quanto pagou ao INSS.\n",
    "#quanto pagou ao sindicato.\n",
    "#o salário líquido.\n",
    "#calcule os descontos e o salário líquido, conforme a tabela abaixo:\n",
    "#+ Salário Bruto : R$\n",
    "#- IR (11%) : R$\n",
    "#- INSS (8%) : R$\n",
    "#- Sindicato ( 5%) : R$\n",
    "#= Salário Liquido : R$\n",
    "\n",
    "print('  ------------------------------------------------FOLHA DE PAGAMENTO-----------------------------------------------------')\n",
    "print('')\n",
    "print('')\n",
    "\n",
    "sal_hora = float(input('Informe o salário hora : '))\n",
    "horas_tra = float(input('Informe número de horas trabalhadas :'))\n",
    "\n",
    "sal_bruto = sal_hora * horas_tra\n",
    "ir = (sal_bruto*0.24)\n",
    "inss = (sal_bruto*0.11)\n",
    "sindi = (sal_bruto*0.01)\n",
    "sal_liqui = sal_bruto -(ir+inss+sindi)\n",
    "\n",
    "print('Salario Bruto : %.2f' % sal_bruto)\n",
    "print('Valor do Imposto de Renda: %.2f' % ir)\n",
    "print('Valor do INSS: %.2f' % inss)\n",
    "print('Valor do Sindicato: %.2f' % sindi)\n",
    "print('Valor Liquido a Receber: %.2f' % sal_liqui)\n",
    "\n"
   ]
  },
  {
   "cell_type": "code",
   "execution_count": null,
   "metadata": {},
   "outputs": [],
   "source": [
    "#Faça um Programa para uma loja de tintas. O programa deverá pedir o tamanho em metros quadrados da área a ser pintada. \n",
    "#Considere que a cobertura da tinta é de 1 litro para cada 6 metros quadrados e que a tinta é vendida em latas de 18 litros, \n",
    "#que custam R$ 80,00 ou em galões de 3,6 litros, que custam R$ 25,00.\n",
    "#Informe ao usuário as quantidades de tinta a serem compradas e os respectivos preços em 3 situações:\n",
    "#comprar apenas latas de 18 litros;\n",
    "#comprar apenas galões de 3,6 litros;\n",
    "#misturar latas e galões, de forma que o desperdício de tinta seja menor. Acrescente 10% de folga e sempre arredonde os valores\n",
    "#para cima, isto é, considere latas cheias.\n",
    "\n",
    "print('-----------------------------------------------TINTAS------------------------------------------------------------------')\n",
    "\n",
    "\n",
    "m_quadrado = float(input('Tamanho m² da área a ser pintada : '))\n",
    "margen = 0.1\n",
    "rendimento = 6\n",
    "galao = 3.6\n",
    "latao = 18\n",
    "\n",
    "m_quadradoex = (m_quadrado * margen) + m_quadrado\n",
    "total_tinta = (m_quadradoex/rendimento) \n",
    "total_galao = round((total_tinta/galao),0)\n",
    "total_latao = round((total_tinta/latao),0)\n",
    "valor_galao = 25\n",
    "valor_latao = 80\n",
    "\n",
    "\n",
    "if total_galao < galao :\n",
    "    valorg = total_galao * valor_galao\n",
    "    print('Total de galoes usados',total_galao,'no valor de R$',valorg)\n",
    "else:\n",
    "    valorg = total_galao * valor_galao\n",
    "    valorl = total_latao * valor_latao\n",
    "    print('Total de galoes usados',total_galao,'no valor de R$',valorg)\n",
    "    print('Total de latoes usados',total_latao,'no valor de R$',valorl)\n"
   ]
  },
  {
   "cell_type": "code",
   "execution_count": 294,
   "metadata": {},
   "outputs": [
    {
     "name": "stdout",
     "output_type": "stream",
     "text": [
      "-------------------------------------SOMA DOS TERMOS DE UM NUMERO DIGITADO------------------------------------------------\n",
      "\n",
      "\n",
      "Digite um numero : 56\n",
      "6\n",
      "5\n",
      "O total da soma dos termos é :  11\n",
      "O número fatorial é :  30\n"
     ]
    }
   ],
   "source": [
    "print('-------------------------------------SOMA DOS TERMOS DE UM NUMERO DIGITADO------------------------------------------------')\n",
    "print()\n",
    "print()\n",
    "\n",
    "numero = int(input('Digite um numero : '))\n",
    "y=0\n",
    "z=1\n",
    "while numero > 0:\n",
    "    x = numero//1 %10\n",
    "    y= x + y\n",
    "    z = x * z\n",
    "    a = numero //10\n",
    "    numero = a\n",
    "    print(x)\n",
    "print('O total da soma dos termos é : ', int(y + a))\n",
    "print('O número fatorial é : ', int(z))\n"
   ]
  },
  {
   "cell_type": "code",
   "execution_count": null,
   "metadata": {},
   "outputs": [],
   "source": [
    "#Faça um programa que peça o tamanho de um arquivo para download (em MB) e a velocidade de um link de Internet (em Mbps), \n",
    "#calcule e informe o tempo aproximado de download do arquivo usando este link (em minutos).\n",
    "\n",
    "print('--------------------------------------------------VELOCIDADE DE DOWNLOAD------------------------------------------------')\n",
    "print()\n",
    "print()\n",
    "size_file =float(input('Qual o tamanho do arquivo em MB :'))\n",
    "speed_link=float(input('Qual a velocidade do link de Internet em Mbps :'))\n",
    "\n",
    "down_time = size_file/speed_link\n",
    "\n",
    "print('O tempo do download será de : %.2f segundo(s) ' % down_time)"
   ]
  },
  {
   "cell_type": "code",
   "execution_count": null,
   "metadata": {},
   "outputs": [],
   "source": [
    "#Faça um Programa que peça dois números e imprima o maior deles.\n",
    "\n",
    "n1 = int(input('Entre com 1 numero: '))\n",
    "n2 = int(input('Entre com o 2 numero: '))\n",
    "if n1 > n2 :\n",
    "    print('Maior n1', n1)\n",
    "if n1< n2:\n",
    "    print('Maior n2', n2)\n",
    "if n1 == n2:\n",
    "    print('Numeros iguais')\n"
   ]
  },
  {
   "cell_type": "code",
   "execution_count": null,
   "metadata": {},
   "outputs": [],
   "source": [
    "#Faça um Programa que peça um valor e mostre na tela se o valor é positivo ou negativo.\n",
    "\n",
    "n1 = int(input('Digite um numero: '))\n",
    "if n1 < 0:\n",
    "    print('NEGATIVO')\n",
    "else :\n",
    "    print('POSITIVO')"
   ]
  },
  {
   "cell_type": "code",
   "execution_count": null,
   "metadata": {},
   "outputs": [],
   "source": [
    "#Faça um Programa que verifique se uma letra digitada é \"F\" ou \"M\". Conforme a letra escrever: \n",
    "# F - Feminino, M - Masculino, Sexo Inválido\n",
    "\n",
    "cht = str(input(\"Digite M ou F: \")).upper()\n",
    "if cht == 'M':\n",
    "    print('Masculino')\n",
    "elif cht == 'F':\n",
    "    print('Feminino')\n",
    "else: \n",
    "    print('Sexo Invalido')"
   ]
  },
  {
   "cell_type": "code",
   "execution_count": null,
   "metadata": {},
   "outputs": [],
   "source": [
    "#Faça um Programa que verifique se uma letra digitada é vogal ou consoante.\n",
    "\n",
    "\n",
    "cht1 = input(\"Digite uma letra: \")\n",
    "if (cht1 =='a' or cht1=='e' or cht1=='i' or cht1=='o' or cht1=='u'):\n",
    "    print('Esta é uma vogal: ', cht1)\n",
    "else:\n",
    "    print('Esta é uma consoante: ', cht1)\n"
   ]
  },
  {
   "cell_type": "code",
   "execution_count": null,
   "metadata": {},
   "outputs": [],
   "source": [
    "#Faça um programa para a leitura de duas notas parciais de um aluno. O programa deve calcular a média alcançada por aluno \n",
    "#e apresentar:\n",
    "#A mensagem \"Aprovado\", se a média alcançada for maior ou igual a sete;\n",
    "#A mensagem \"Reprovado\", se a média for menor do que sete;\n",
    "#A mensagem \"Aprovado com Distinção\", se a média for igual a dez.\n",
    "\n",
    "\n",
    "nota=float(input('Entre com a nota do aluno: '))\n",
    "if nota == 10:\n",
    "    print('Aprovado com Distinção')\n",
    "elif nota >= 7:\n",
    "    print('Aprovado')\n",
    "else:\n",
    "    print('Reprovado')\n",
    "\n",
    "\n",
    "\n"
   ]
  },
  {
   "cell_type": "code",
   "execution_count": null,
   "metadata": {},
   "outputs": [],
   "source": [
    "#Faça um Programa que leia três números e mostre o maior deles.\n",
    "\n",
    "n1=int(input('Digite o 1 numero: '))\n",
    "n2=int(input('Digite o 2 numero: '))\n",
    "n3=int(input('Digite o 3 numero: '))\n",
    "\n",
    "if (n1>n2 and n1>n3):\n",
    "    print(n1)\n",
    "elif n2>n3:\n",
    "    print(n2)\n",
    "else:\n",
    "    print(n3)\n"
   ]
  },
  {
   "cell_type": "code",
   "execution_count": null,
   "metadata": {},
   "outputs": [],
   "source": [
    "#Faça um Programa que leia três números e mostre o maior e o menor deles.\n",
    "n1=int(input('Digite o 1º numero: '))\n",
    "n2=int(input('Digite o 2º numero: '))\n",
    "n3=int(input('Digite o 3º numero: '))\n",
    "\n",
    "if (n1>n2 and n1>n3):\n",
    "    maior=n1\n",
    "elif n2>n3:\n",
    "    maior=n2\n",
    "else:\n",
    "    maior=n3\n",
    "if (n1<n2 and n1<n3):\n",
    "    menor=n1\n",
    "elif n2<n3:\n",
    "    menor=n2\n",
    "else:\n",
    "    menor=n3\n",
    "print('Maior',maior)\n",
    "print('Menor',menor)\n",
    "\n",
    "    \n",
    "    "
   ]
  },
  {
   "cell_type": "code",
   "execution_count": null,
   "metadata": {},
   "outputs": [],
   "source": [
    "#Faça um Programa que leia três números e mostre-os em ordem decrescente.\n",
    "\n",
    "n1=int(input('Digite o 1º numero: '))\n",
    "n2=int(input('Digite o 2º numero: '))\n",
    "n3=int(input('Digite o 3º numero: '))\n",
    "\n",
    "if (n1>n2 and n1>n3 and n2>n3):\n",
    "    print(n1,n2,n3) \n",
    "elif (n1>n3 and n1>n2 and n3>n2):\n",
    "    print(n1,n3,n2)\n",
    "elif (n2>n1 and n2>n3 and n1>n3):\n",
    "    print(n2,n1,n3)\n",
    "elif (n2>n3 and n2>n1 and n3>n1):\n",
    "    print(n2,n3,n1)\n",
    "elif (n3>n1 and n3>n2 and n1>n2):\n",
    "    print(n3,n1,n2)\n",
    "elif (n3>n2 and n3>n1 and n2>n1):\n",
    "    print(n3,n2,n1)    \n",
    "\n",
    "    \n"
   ]
  },
  {
   "cell_type": "code",
   "execution_count": null,
   "metadata": {},
   "outputs": [],
   "source": [
    "#As Organizações Tabajara resolveram dar um aumento de salário aos seus colaboradores e lhe contraram para desenvolver o programa\n",
    "#que calculará os reajustes.\n",
    "#Faça um programa que recebe o salário de um colaborador e o reajuste segundo o seguinte critério, baseado no salário atual:\n",
    "#salários até R$ 280,00 (incluindo) : aumento de 20%\n",
    "#salários entre R$ 280,00 e R$ 700,00 : aumento de 15%\n",
    "#salários entre R$ 700,00 e R$ 1500,00 : aumento de 10%\n",
    "#salários de R$ 1500,00 em diante : aumento de 5% Após o aumento ser realizado, informe na tela:\n",
    "#o salário antes do reajuste;\n",
    "#o percentual de aumento aplicado;\n",
    "#o valor do aumento;\n",
    "#o novo salário, após o aumento.\n",
    "\n",
    "salario = float(input(\"Digite o salario: \"))\n",
    "if salario <= 280:\n",
    "    aumento1 = salario * 0.2\n",
    "    new_salario1 = salario + aumento1\n",
    "elif (salario>280 and salario<=700):\n",
    "    aumento2 = salario * 0.15\n",
    "    new_salario2 = salario + aumento2\n",
    "elif (salario>700 and salario<=1500):\n",
    "    aumento3 = salario * 0.1\n",
    "    new_salario3 = salario + aumento3\n",
    "elif (salario>1500):\n",
    "    aumento4 = salario * 0.05\n",
    "    new_salario4 = salario + aumento4\n",
    "\n",
    "if  (salario <= 280):\n",
    "    print('Salario atual : R$',salario)\n",
    "    print('Percentual de 20% de aumento')\n",
    "    print('Aumento de : R$',aumento1)\n",
    "    print('Novo salário : R$',new_salario1)\n",
    "elif (salario > 280 and salario <= 700):\n",
    "     print('Salario atual : R$',salario)\n",
    "     print('Percentual de 15% de aumento')\n",
    "     print('Aumento de : R$',aumento2)\n",
    "     print('Novo salário : R$',new_salario2)\n",
    "elif (salario > 700 and salario <= 1500):\n",
    "     print('Salario atual : R$',salario)\n",
    "     print('Percentual de 10% de aumento')\n",
    "     print('Aumento de : R$',aumento3)\n",
    "     print('Novo salário : R$',new_salario3)\n",
    "elif (salario > 1500):\n",
    "     print('Salario atual : R$',salario)\n",
    "     print('Percentual de 5% de aumento')\n",
    "     print('Aumento de : R$',aumento4)\n",
    "     print('Novo salário : R$',new_salario4)\n",
    "    "
   ]
  },
  {
   "cell_type": "code",
   "execution_count": null,
   "metadata": {},
   "outputs": [],
   "source": [
    "#Faça um programa para o cálculo de uma folha de pagamento, sabendo que os descontos são do Imposto de Renda, que depende do \n",
    "#salário bruto (conforme tabela abaixo) e 3% para o Sindicato e que o FGTS corresponde a 11% do Salário Bruto, mas não é \n",
    "#descontado (é a empresa que deposita). O Salário Líquido corresponde ao Salário Bruto menos os descontos. O programa deverá \n",
    "#pedir ao usuário o valor da sua hora e a quantidade de horas trabalhadas no mês.\n",
    "#Desconto do IR:\n",
    "#Salário Bruto até 900 (inclusive) - isento\n",
    "#Salário Bruto até 1500 (inclusive) - desconto de 5%\n",
    "#Salário Bruto até 2500 (inclusive) - desconto de 10%\n",
    "#Salário Bruto acima de 2500 - desconto de 20% Imprima na tela as informações, dispostas conforme o exemplo abaixo. No exemplo \n",
    "#o valor da hora é 5 e a quantidade de hora é 220.\n",
    "\n",
    "def folha (salario_hora,tempo):\n",
    "    salario = salario_hora * tempo\n",
    "    fgts = salario * 0.11\n",
    "    sind = salario * 0.03\n",
    "    if (salario <= 900):\n",
    "        irpf = \" \"\n",
    "        ir=salario*0\n",
    "        salario_liq = salario - sind\n",
    "    elif (salario >= 900 and salario <= 1500) :\n",
    "        irpf = '5%'\n",
    "        v_ir = 0.05\n",
    "        ir = salario * v_ir\n",
    "        salario_liq = salario - sind - ir\n",
    "    elif (salario > 1500 and salario <= 2500) :    \n",
    "        irpf = '10%'\n",
    "        v_ir = 0.1\n",
    "        ir = salario * v_ir   \n",
    "        salario_liq = salario - sind - ir\n",
    "    elif (salario > 2500):\n",
    "        irpf = '20%'\n",
    "        v_ir = 0.2\n",
    "        ir = salario * v_ir\n",
    "        salario_liq = salario - sind - ir\n",
    "    print('Salario bruto :                                R$ %.2f'%salario)\n",
    "    print('Imposto de renda :                        ',irpf,       'R$ %.2f' %ir)\n",
    "    print('FGTS :                                         R$ %.2f' %fgts)\n",
    "    print('Sindicato :                                    R$ %.2f' %sind)\n",
    "    print('Salario liquido a receber :                    R$ %.2f' %salario_liq)  \n",
    "    print()\n",
    "    print()\n",
    "    return('Folha Processada')\n",
    "    \n",
    "    "
   ]
  },
  {
   "cell_type": "code",
   "execution_count": null,
   "metadata": {},
   "outputs": [],
   "source": [
    "print('---------------------------------------------------CALCULO FOLHA DE PAGAMENTO---------------------------------------------')\n",
    "print()\n",
    "print()\n",
    "salario_hora=float(input('Digite o salario_hora: '))\n",
    "tempo=float(input('Digite as horas trabalhadas: '))\n",
    "calculo_pgt = folha(salario_hora,tempo)\n",
    "print(calculo_pgt)\n"
   ]
  },
  {
   "cell_type": "code",
   "execution_count": null,
   "metadata": {},
   "outputs": [],
   "source": [
    "#Faça um programa que lê as duas notas parciais obtidas por um aluno numa disciplina ao longo de um semestre, e calcule a sua \n",
    "#média. A atribuição de conceitos obedece à tabela abaixo:\n",
    " # Média de Aproveitamento  Conceito\n",
    " # Entre 9.0 e 10.0        A\n",
    " # Entre 7.5 e 9.0         B\n",
    " # Entre 6.0 e 7.5         C\n",
    " # Entre 4.0 e 6.0         D\n",
    " # Entre 4.0 e zero        E\n",
    "#O algoritmo deve mostrar na tela as notas, a média, o conceito correspondente e a mensagem “APROVADO” se o conceito for \n",
    "#A, B ou C ou “REPROVADO” se o conceito for D ou E.\n",
    "\n",
    "def notas(bim1,bim2):\n",
    "    media=(bim1+bim2)/2\n",
    "    if (media >= 9 and media <= 10):\n",
    "        conceito = 'A'\n",
    "    elif (media >= 7.5 and media < 9):\n",
    "        conceito = 'B'\n",
    "    elif (media >=6.0 and media < 7.5):\n",
    "        conceito = 'C'\n",
    "    elif (media >=4 and media < 6):\n",
    "        conceito = 'D'\n",
    "    elif (media >=0 and media < 4):\n",
    "        conceito = 'E'\n",
    "    if (conceito == 'A' or conceito == 'B' or conceito == 'C'):\n",
    "        print('APROVADO')\n",
    "    else:   \n",
    "        print('REPROVADO')\n",
    "    print('Conceito', conceito)\n",
    "    print()\n",
    "    print()\n",
    "    \n",
    "    return 'Fim de processamento'"
   ]
  },
  {
   "cell_type": "code",
   "execution_count": null,
   "metadata": {},
   "outputs": [],
   "source": [
    "print('--------------------------------------------------MEDIA DE NOTAS--------------------------------------------------------')\n",
    "print()\n",
    "print()\n",
    "\n",
    "bim1=float(input(\"Notas do 1º Bimestre : \"))\n",
    "bim2=float(input(\"Notas do 2º Bimestre : \"))\n",
    "calculo = notas(bim1,bim2)\n",
    "print(calculo)"
   ]
  },
  {
   "cell_type": "code",
   "execution_count": 135,
   "metadata": {},
   "outputs": [],
   "source": [
    "#Faça um Programa que peça os 3 lados de um triângulo. O programa deverá informar se os valores podem ser um triângulo. \n",
    "#Indique, caso os lados formem um triângulo, se o mesmo é: equilátero, isósceles ou escaleno.\n",
    "#Dicas:\n",
    "#Três lados formam um triângulo quando a soma de quaisquer dois lados for maior que o terceiro;\n",
    "#Triângulo Equilátero: três lados iguais;\n",
    "#Triângulo Isósceles: quaisquer dois lados iguais;\n",
    "#Triângulo Escaleno: três lados diferentes\n",
    "\n",
    "def triangulo(side1, side2, side3):\n",
    "    soma_1 = side1 + side2\n",
    "    soma_2 = side1 + side3\n",
    "    soma_3 = side2 + side3\n",
    "    \n",
    "    if (soma_1 > side3 or soma_2 > side2) and (side1 != 0 and side2 != 0 and side3 != 0):\n",
    "        e_triangulo = str('sim')\n",
    "    else:\n",
    "        e_triangulo = str('não')\n",
    "    print('É um triangulo: ',e_triangulo)\n",
    "    return ''\n",
    "def type_triangulo(side1, side2, side3):\n",
    "    if (side1 == side2 and side1 == side3 and side2 == side3) and (side1 != 0 or side2 != 0 or side3 != 0):\n",
    "        equi_triangulo = str('Equilatero')\n",
    "    elif ((side1 == side2 and side1 != side3 and side1 != 0 and side2 != 0 and side3 != 0) or \n",
    "          (side3 == side1 and side3 != side2 and side1 != 0 and side2 != 0 and side3 != 0) or \n",
    "          (side2 == side3 and side3 != side1 and side1 != 0 and side2 != 0 and side3 != 0)):\n",
    "        equi_triangulo = str('Isósceles')\n",
    "    elif (side1 != side2 and side1 != side3 and side2 != side3 and side1 != 0 and side2 != 0 and side3 != 0):\n",
    "        equi_triangulo = str('Escaleno')\n",
    "    else:\n",
    "        equi_triangulo = str('Não é triangulo')\n",
    "    print('O triangulo é um: ',equi_triangulo)\n",
    "    return ''\n"
   ]
  },
  {
   "cell_type": "code",
   "execution_count": 141,
   "metadata": {},
   "outputs": [
    {
     "name": "stdout",
     "output_type": "stream",
     "text": [
      "------------------------------------------CALCULO TRIANGULO-------------------------------------------------------------\n",
      "\n",
      "\n",
      "Entre com o 1º lado do triangulo: 45\n",
      "Entre com o 2º lado do triangulo: 45\n",
      "Enre como o 3º lado do triangulo: 45\n",
      "É um triangulo:  sim\n",
      "O triangulo é um:  Equilatero\n",
      "\n",
      "\n"
     ]
    }
   ],
   "source": [
    "print('------------------------------------------CALCULO TRIANGULO-------------------------------------------------------------')\n",
    "print()\n",
    "print()\n",
    "side1 = float(input('Entre com o 1º lado do triangulo: '))\n",
    "side2 = float(input('Entre com o 2º lado do triangulo: '))\n",
    "side3 = float(input('Enre como o 3º lado do triangulo: '))\n",
    "tri_angulo = triangulo(side1,side2,side3)\n",
    "tipo_tri = type_triangulo(side1,side2,side3)\n",
    "print(tri_angulo)\n",
    "print(tipo_tri)"
   ]
  },
  {
   "cell_type": "code",
   "execution_count": 291,
   "metadata": {},
   "outputs": [],
   "source": [
    "#Faça um programa que calcule as raízes de uma equação do segundo grau, na forma ax2 + bx + c. O programa deverá pedir os \n",
    "#valores de a, b e c e fazer as consistências, informando ao usuário nas seguintes situações:\n",
    "#a -Se o usuário informar o valor de A igual a zero, a equação não é do segundo grau e o programa não deve fazer pedir os demais \n",
    "#valores, sendo encerrado;\n",
    "#b - Se o delta calculado for negativo, a equação não possui raizes reais. Informe ao usuário e encerre o programa;\n",
    "#c - Se o delta calculado for igual a zero a equação possui apenas uma raiz real; informe-a ao usuário;\n",
    "#d - Se o delta for positivo, a equação possui duas raiz reais; informe-as ao usuário\n",
    "\n",
    "import sys\n",
    "from math import sqrt\n",
    "\n",
    "def delta(a,b,c):\n",
    "    a=float(input('Entre com o valor de a:'))\n",
    "    if a == 0:\n",
    "        print('A equação não possui raizes reais !')\n",
    "        sys.exit()\n",
    "    b=float(input('Entre com o valor de b:'))\n",
    "    c=float(input('Entre com o valor de c:'))\n",
    "    delta_calculo = ((b**2) - (4*a*c))  \n",
    "    if delta_calculo < 0:\n",
    "        print('A equação não possui raizes reais!')\n",
    "        sys.exit()\n",
    "    else:\n",
    "        raiz_delta = (sqrt(delta_calculo))\n",
    "        x_positivo1 = (-b + raiz_delta)\n",
    "        x_negativo1 = (-b - raiz_delta)\n",
    "        x_positivo = x_positivo1/(2*a)\n",
    "        x_negativo = x_negativo1/(2*a)              \n",
    "  \n",
    "    if delta_calculo == 0:\n",
    "        print('A equação possui apenas uma raiz real')\n",
    "        print('Uma raiz é : %.2f' % x_positivo,'Outra raiz é : %.2f' % x_negativo)\n",
    "    elif delta_calculo > 0:\n",
    "        print('A equação possui duas raizes reais')\n",
    "        print('Uma raiz é : %.2f' % x_positivo,'Outra raiz é : %.2f' % x_negativo)\n",
    "    \n",
    "   \n",
    "       \n"
   ]
  },
  {
   "cell_type": "code",
   "execution_count": 293,
   "metadata": {},
   "outputs": [
    {
     "name": "stdout",
     "output_type": "stream",
     "text": [
      "Entre com o valor de a:-1\n",
      "Entre com o valor de b:2\n",
      "Entre com o valor de c:9\n",
      "A equação possui duas raizes reais\n",
      "Uma raiz é : -2.16 Outra raiz é : 4.16\n",
      "<function delta at 0x000002A163F50D30>\n"
     ]
    }
   ],
   "source": [
    "dados=delta(a,b,c)\n",
    "\n",
    "print(conta)\n"
   ]
  },
  {
   "cell_type": "code",
   "execution_count": 425,
   "metadata": {},
   "outputs": [],
   "source": [
    "#Faça um Programa que leia um número inteiro menor que 1000 e imprima a quantidade de centenas, dezenas e unidades do mesmo.\n",
    "#Observando os termos no plural a colocação do \"e\", da vírgula entre outros. Exemplo:\n",
    "#326 = 3 centenas, 2 dezenas e 6 unidades\n",
    "#12 = 1 dezena e 2 unidades Testar com: 326, 300, 100, 320, 310,305, 301, 101, 311, 111, 25, 20, 10, 21, 11, 1, 7 e 16\n",
    "\n",
    "def read_number(num):\n",
    "    num = int(input('Digite um numero : '))\n",
    "    if num < 1000 and num > 0:\n",
    "        a = num//100 %10\n",
    "        b = num//10 %10\n",
    "        c = num//1 %10\n",
    "        \n",
    "        if a == 0 and b == 0 and c <= 1:\n",
    "            print(c,'unidade')#1\n",
    "        \n",
    "        elif a == 0 and b == 0 and c > 1:\n",
    "            print(c,'unidades')#2    \n",
    "        \n",
    "        elif a == 0 and b == 1 and c <= 1:\n",
    "            print(b,'dezena e',c,'unidade')#11\n",
    "       \n",
    "        elif a == 0 and b <= 1 and c > 1:\n",
    "            print(b,'dezena e',c,'unidades')#12\n",
    "        \n",
    "        elif a==0 and b >1 and c >1:\n",
    "            print(b,'dezenas e',c,'unidades')#22\n",
    "        \n",
    "        elif a == 0 and b > 1 and c <= 1:\n",
    "            print(b,'dezenas e',c,'unidade')\n",
    "            \n",
    "        elif a <= 1 and b <= 1 and c <= 1:\n",
    "            print(a,'centena,',b,'dezena e',c,'unidade')#111\n",
    "        \n",
    "        elif a <= 1 and b <= 1 and c > 1:\n",
    "            print(a,'centena,',b,'dezena e',c,'unidades')#112\n",
    "        \n",
    "        elif a == 1 and b > 1 and c <= 1:\n",
    "            print(a,'centena,',b,'dezenas e',c,'unidade')#repete\n",
    "        \n",
    "        elif a > 1 and b <= 1 and c <= 1:\n",
    "            print(a,'centenas,',b,'dezena e',c,'unidade')#211\n",
    "        \n",
    "        elif a > 1 and b > 1 and c > 1:\n",
    "            print(a,'centenas,',b,'dezenas e',c,'unidades')#222\n",
    "        \n",
    "        elif a > 1 and b <= 0 and c > 1:    \n",
    "            print(a,'centenas,',b,'dezena e',c,'unidades')#202\n",
    "        \n",
    "        elif a > 1 and b > 0 and c <= 1:    \n",
    "            print(a,'centenas,',b,'dezenas e',c,'unidade')#220    \n",
    "        \n",
    "        elif a > 1 and b > 0 and c > 1:    \n",
    "            print(a,'centenas,',b,'dezenas e',c,'unidades') #222   \n",
    "            \n",
    "    else:\n",
    "        print('Entre com um numero menor que 1000 e maior que 0')\n",
    "    \n",
    "       \n",
    "        "
   ]
  },
  {
   "cell_type": "code",
   "execution_count": 435,
   "metadata": {},
   "outputs": [
    {
     "name": "stdout",
     "output_type": "stream",
     "text": [
      "Digite um numero : 002\n",
      "2 unidades\n"
     ]
    }
   ],
   "source": [
    "read_number(num)"
   ]
  },
  {
   "cell_type": "code",
   "execution_count": 486,
   "metadata": {},
   "outputs": [],
   "source": [
    "#Um posto está vendendo combustíveis com a seguinte tabela de descontos:\n",
    "#Álcool:\n",
    "#até 20 litros, desconto de 3% por litro\n",
    "#acima de 20 litros, desconto de 5% por litro\n",
    "#Gasolina:\n",
    "#até 20 litros, desconto de 4% por litro\n",
    "#acima de 20 litros, desconto de 6% por litro Escreva um algoritmo que leia o número de litros vendidos, o tipo de combustível\n",
    "#(codificado da seguinte forma: A-álcool, G-gasolina), calcule e imprima o valor a ser pago pelo cliente sabendo-se que o preço \n",
    "#do litro da gasolina é R$ 2,50 o preço do litro do álcool é R$ 1,90.\n",
    "\n",
    "def nota_fiscal(type_fuel, qtd, value_off):\n",
    "    if type_fuel == 'G':\n",
    "        fuel_invoice = 'Gasolina'\n",
    "        print('-----------------------------------------------------NOTA FISCAL COMBUSTÍVEL-----------------------------------------------')\n",
    "        print()\n",
    "        print('Tipo de combustivel adquirido: ',fuel_invoice)\n",
    "        print('Quantidade de litros: ',qtd)\n",
    "        print('Valor a ser pago: R$ %.2f' %value_off)\n",
    "    elif type_fuel == 'A':\n",
    "        fuel_invoice = 'Álcool'\n",
    "        print('Tipo de combustivel adquirido: ',fuel_invoice)\n",
    "        print('Quantidade de litros: ',qtd)\n",
    "        print('Valor a ser pago: R$ %.2f' %value_off)"
   ]
  },
  {
   "cell_type": "code",
   "execution_count": 494,
   "metadata": {},
   "outputs": [
    {
     "name": "stdout",
     "output_type": "stream",
     "text": [
      "-------------------------------------------------------POSTO BARATO !---------------------------------------------------------\n",
      "\n",
      "\n",
      "Qual o tipo de combustivel: (A)-Álcool ou (G)-Gasolina: a\n",
      "Álcool\n",
      "Entre com a quantidade em litros abastecida: 10\n",
      "Tipo de combustivel adquirido:  Álcool\n",
      "Quantidade de litros:  10.0\n",
      "Valor a ser pago: R$ 18.43\n"
     ]
    }
   ],
   "source": [
    "print('-------------------------------------------------------POSTO BARATO !---------------------------------------------------------')\n",
    "print()\n",
    "print()\n",
    "type_fuel = str(input('Qual o tipo de combustivel: (A)-Álcool ou (G)-Gasolina: ')).upper()\n",
    "if type_fuel == \"A\":\n",
    "    print(\"Álcool\")\n",
    "elif type_fuel == \"G\":\n",
    "    print(\"Gasolina\")\n",
    "if type_fuel == 'A':\n",
    "    qtd = float(input('Entre com a quantidade em litros abastecida: '))\n",
    "    if float(qtd <= 20):\n",
    "        value = float(qtd * 1.9)\n",
    "        value_off = float((value * -0.03) + value)\n",
    "        nota_fiscal(type_fuel, qtd, value_off)\n",
    "    else: \n",
    "        value = float(qtd * 1.9)\n",
    "        value_off = float((value * -0.05) + value)\n",
    "        nota_fiscal(type_fuel, qtd, value_off)\n",
    "elif type_fuel == str('G'):\n",
    "    qtd = float(input('Entre com a quantidade em litros abastecida'))\n",
    "    if float(qtd <= 20):\n",
    "        value = float(qtd * 2.5)\n",
    "        value_off = float((value * -0.04) + value)\n",
    "        nota_fiscal(type_fuel, qtd, value_off)\n",
    "    else: \n",
    "        value = float(qtd * 1.9)\n",
    "        value_off = float((value * -0.06) + value)\n",
    "        nota_fiscal(type_fuel, qtd, value_off)           "
   ]
  },
  {
   "cell_type": "code",
   "execution_count": 511,
   "metadata": {},
   "outputs": [
    {
     "name": "stdout",
     "output_type": "stream",
     "text": [
      "Entre com uma nota entre 0 e 10 : 1\n",
      "Nota digitada :  1\n"
     ]
    }
   ],
   "source": [
    "#Faça um programa que peça uma nota, entre zero e dez. Mostre uma mensagem caso o valor seja inválido e continue pedindo até \n",
    "#que o usuário informe um valor válido.\n",
    "\n",
    "nota = int(input(\"Entre com uma nota entre 0 e 10 : \"))\n",
    "while nota < 0 or nota > 10:\n",
    "    print(\"Valor invalido\")\n",
    "    nota = int(input(\"Entre com uma nota entre 0 e 10 : \"))\n",
    "if nota >=0 and nota <=10:\n",
    "    print(\"Nota digitada : \", nota)\n",
    "   \n",
    "        "
   ]
  },
  {
   "cell_type": "code",
   "execution_count": 524,
   "metadata": {},
   "outputs": [
    {
     "name": "stdout",
     "output_type": "stream",
     "text": [
      "Nome do usuário :1\n",
      "Digite a senha :1\n",
      "Nome e senha não podem ser iguais, digite novamente\n",
      "Nome do usuário :2\n",
      "Digite a senha :3\n",
      "Ok\n"
     ]
    }
   ],
   "source": [
    "#Faça um programa que leia um nome de usuário e a sua senha e não aceite a senha igual ao nome do usuário, mostrando uma\n",
    "#mensagem de erro e voltando a pedir as informações.\n",
    "\n",
    "nome = str(input('Nome do usuário :'))\n",
    "senha = str(input('Digite a senha :'))\n",
    "while nome == senha:\n",
    "    print(\"Nome e senha não podem ser iguais, digite novamente\")\n",
    "    nome = str(input('Nome do usuário :'))\n",
    "    senha = str(input('Digite a senha :'))\n",
    "if nome != senha:\n",
    "    print('Ok')\n"
   ]
  },
  {
   "cell_type": "code",
   "execution_count": 552,
   "metadata": {},
   "outputs": [
    {
     "name": "stdout",
     "output_type": "stream",
     "text": [
      "Digite o seu nome: yyyy\n",
      "Digite sua idade: 777\n",
      "Idade entre 0 e 150\n",
      "Digite sua idade: 45\n",
      "Entre com o salário: 8765\n",
      "Entre com o sexo: m\n",
      "Entre com o Estado Cívil (s),(c),(v),(d): d\n",
      "Cadastro ok\n"
     ]
    }
   ],
   "source": [
    "#Faça um programa que leia e valide as seguintes informações:\n",
    "#Nome: maior que 3 caracteres;\n",
    "#Idade: entre 0 e 150;\n",
    "#Salário: maior que zero;\n",
    "#Sexo: 'f' ou 'm';\n",
    "#Estado Civil: 's', 'c', 'v', 'd';\n",
    "\n",
    "\n",
    "nome=str(input(\"Digite o seu nome: \"))\n",
    "while len(nome) < 3 :\n",
    "    print('Nome tem que ter mais de 3 caracteres')\n",
    "    nome=str(input(\"Digite o seu nome: \"))\n",
    "\n",
    "idade = int(input(\"Digite sua idade: \"))\n",
    "while idade <=0 or idade >= 150:\n",
    "    print('Idade entre 0 e 150')\n",
    "    idade = int(input(\"Digite sua idade: \"))\n",
    "salario = float(input(\"Entre com o salário: \"))\n",
    "while salario < 0:\n",
    "    print('Salario maior que 0')\n",
    "    salario = float(input(\"Entre com o salário: \"))    \n",
    "sexo = (input(\"Entre com o sexo: \"))\n",
    "while sexo != 'f' and sexo != 'm':\n",
    "    print('Sexo tem que ser f ou m')\n",
    "    sexo = str(input(\"Entre com o sexo: \"))\n",
    "e_civil=input(\"Entre com o Estado Cívil (s),(c),(v),(d): \")\n",
    "while e_civil != 's' and e_civil != 'c' and e_civil != 'v' and e_civil != 'd':\n",
    "    print('Estado Civil tem que ser : (s),(c),(v),(d)')\n",
    "    e_civil=input(\"Entre com o Estado Cívil (s),(c),(v),(d): \")\n",
    "\n",
    "print('Cadastro ok')\n",
    "\n"
   ]
  },
  {
   "cell_type": "code",
   "execution_count": 618,
   "metadata": {},
   "outputs": [
    {
     "name": "stdout",
     "output_type": "stream",
     "text": [
      "A ultrapassa ou iguala a B em 63 anos\n"
     ]
    }
   ],
   "source": [
    "#Supondo que a população de um país A seja da ordem de 80000 habitantes com uma taxa anual de crescimento de 3% e que a \n",
    "#população de B seja 200000 habitantes com uma taxa de crescimento de 1.5%. Faça um programa que calcule e escreva o número de \n",
    "#anos necessários para que a população do país A ultrapasse ou iguale a população do país B, mantidas as taxas de crescimento.\n",
    "\n",
    "pais_A = 80000\n",
    "pais_B = 200000\n",
    "tx_a = 0.03\n",
    "tx_b = 0.015\n",
    "\n",
    "ano = 0\n",
    "while pais_A <= pais_B:\n",
    "    pais_A += pais_A * tx_a\n",
    "    pais_B += pais_B * tx_b\n",
    "    ano = ano + 1\n",
    "    \n",
    "print ( \"A ultrapassa ou iguala a B em %d anos\" %ano )\n"
   ]
  },
  {
   "cell_type": "code",
   "execution_count": 647,
   "metadata": {},
   "outputs": [
    {
     "name": "stdout",
     "output_type": "stream",
     "text": [
      "1 2 3 4 5 6 7 8 9 10 11 12 13 14 15 16 17 18 19 20 "
     ]
    }
   ],
   "source": [
    "#Faça um programa que imprima na tela os números de 1 a 20, um abaixo do outro. Depois modifique o programa para que ele mostre \n",
    "#os números um ao lado do outro.\n",
    "\n",
    "number = 0\n",
    "while number < 20:\n",
    "    number = number + 1\n",
    "    print(number, end=\" \")    \n",
    "    \n",
    "    \n",
    "    #print(number)"
   ]
  },
  {
   "cell_type": "code",
   "execution_count": 686,
   "metadata": {},
   "outputs": [
    {
     "name": "stdout",
     "output_type": "stream",
     "text": [
      "Quantos numero vc quer digitar? :12\n",
      "Digite um numero: 56\n",
      "Digite um numero: 34\n",
      "Digite um numero: 2\n",
      "Digite um numero: 0\n",
      "Digite um numero: 7\n",
      "Digite um numero: 5\n",
      "Digite um numero: 3\n",
      "Digite um numero: 89\n",
      "Digite um numero: 65\n",
      "Digite um numero: 12\n",
      "Digite um numero: 4\n",
      "Digite um numero: 88\n",
      "O maior numero da sequencia é : 89 e o menor é : 0\n"
     ]
    }
   ],
   "source": [
    "#Faça um programa que leia 5 números e informe o maior número\n",
    "\n",
    "cont = int(input(\"Quantos numero vc quer digitar? :\"))\n",
    "numero = []\n",
    "while 0 != cont: \n",
    "    num = int(input('Digite um numero: '))\n",
    "    numero.append(num)\n",
    "    cont = cont -1\n",
    "maior = max(numero)\n",
    "menor = min(numero)\n",
    "print(\"O maior numero da sequencia é :\",maior,\"e o menor é :\", menor)\n",
    "    \n",
    "\n",
    "    \n"
   ]
  },
  {
   "cell_type": "code",
   "execution_count": 688,
   "metadata": {},
   "outputs": [
    {
     "name": "stdout",
     "output_type": "stream",
     "text": [
      "Quantos numero vc quer digitar? :5\n",
      "Digite um numero: 2\n",
      "Digite um numero: 3\n",
      "Digite um numero: 4\n",
      "Digite um numero: 5\n",
      "Digite um numero: 6\n",
      "A soma dos numeros da sequencia é : 20 e a media da sequencia é : 4.0\n"
     ]
    }
   ],
   "source": [
    "#Faça um programa que leia 5 números e informe o maior número\n",
    "\n",
    "cont = int(input(\"Quantos numero vc quer digitar? :\"))\n",
    "numero = []\n",
    "while 0 != cont: \n",
    "    num = int(input('Digite um numero: '))\n",
    "    numero.append(num)\n",
    "    cont = cont -1\n",
    "soma = sum(numero)\n",
    "media = sum(numero)/len(numero)\n",
    "print(\"A soma dos numeros da sequencia é :\",soma,\"e a media da sequencia é :\", media)\n",
    "\n"
   ]
  },
  {
   "cell_type": "code",
   "execution_count": 735,
   "metadata": {},
   "outputs": [
    {
     "name": "stdout",
     "output_type": "stream",
     "text": [
      "1 3 5 7 9 11 13 15 17 19 21 23 25 27 29 31 33 35 37 39 41 43 45 47 49 "
     ]
    }
   ],
   "source": [
    "#Faça um programa que imprima na tela apenas os números ímpares entre 1 e 50\n",
    "\n",
    "cont = 0\n",
    "numero = []\n",
    "while cont < 50:\n",
    "    cont = cont +1\n",
    "    numero.append(cont)\n",
    "for x in numero:\n",
    "    if x%2 == 1:\n",
    "        print(x,end= \" \")    \n",
    "  "
   ]
  },
  {
   "cell_type": "code",
   "execution_count": 795,
   "metadata": {
    "scrolled": false
   },
   "outputs": [
    {
     "name": "stdout",
     "output_type": "stream",
     "text": [
      "Entre com o 1º numero: 65\n",
      "Entre com o 2º numero: 43\n",
      "Soma dos numeros:  108 Numero entre entre eles : [44, 45, 46, 47, 48, 49, 50, 51, 52, 53, 54, 55, 56, 57, 58, 59, 60, 61, 62, 63, 64]\n"
     ]
    }
   ],
   "source": [
    "#Faça um programa que receba dois números inteiros e gere os números inteiros que estão no intervalo compreendido por eles e \n",
    "#e a soma entre eles.\n",
    "\n",
    "num1 = int(input('Entre com o 1º numero: '))\n",
    "num2 = int(input('Entre com o 2º numero: '))\n",
    "\n",
    "numero = []\n",
    "total = num1 + num2\n",
    "if num1 < num2: \n",
    "    num1 = num1 + 1\n",
    "    while num1 < num2:\n",
    "        numero.append(num1)\n",
    "        num1 = num1 + 1 \n",
    "    print(\"Soma dos numeros: \",total,\"Numero entre entre eles :\",numero)\n",
    "elif num2 < num1:    \n",
    "    num2 = num2 + 1\n",
    "    while num2 < num1:\n",
    "        numero.append(num2)\n",
    "        num2 = num2 + 1\n",
    "    print(\"Soma dos numeros: \",total,\"Numero entre entre eles :\",numero)  \n",
    "   \n"
   ]
  },
  {
   "cell_type": "markdown",
   "metadata": {},
   "source": [
    "https://github.com/fabriciosept80/python_first_steps.git"
   ]
  },
  {
   "cell_type": "code",
   "execution_count": null,
   "metadata": {},
   "outputs": [],
   "source": []
  }
 ],
 "metadata": {
  "kernelspec": {
   "display_name": "Python 3",
   "language": "python",
   "name": "python3"
  },
  "language_info": {
   "codemirror_mode": {
    "name": "ipython",
    "version": 3
   },
   "file_extension": ".py",
   "mimetype": "text/x-python",
   "name": "python",
   "nbconvert_exporter": "python",
   "pygments_lexer": "ipython3",
   "version": "3.8.5"
  }
 },
 "nbformat": 4,
 "nbformat_minor": 4
}
